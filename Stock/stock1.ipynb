{
 "cells": [
  {
   "cell_type": "markdown",
   "metadata": {},
   "source": [
    "https://medium.com/@jsteinb/python-build-a-program-to-retrieve-and-graph-live-stock-market-data-311d9ca1b7d3"
   ]
  },
  {
   "cell_type": "code",
   "execution_count": 7,
   "metadata": {},
   "outputs": [
    {
     "name": "stdout",
     "output_type": "stream",
     "text": [
      "[*********************100%***********************]  1 of 1 completed\n",
      "                                Open       High        Low      Close  \\\n",
      "Datetime                                                                \n",
      "2022-10-13 09:30:00-04:00  95.930000  96.000000  95.269997  95.769997   \n",
      "2022-10-13 09:31:00-04:00  95.720001  95.837502  95.500000  95.809998   \n",
      "2022-10-13 09:32:00-04:00  95.860001  95.889999  95.570000  95.570000   \n",
      "2022-10-13 09:33:00-04:00  95.559998  95.959999  95.514999  95.949997   \n",
      "2022-10-13 09:34:00-04:00  95.940002  96.019997  95.800003  96.019897   \n",
      "...                              ...        ...        ...        ...   \n",
      "2022-10-13 15:56:00-04:00  99.790001  99.830002  99.699997  99.720001   \n",
      "2022-10-13 15:57:00-04:00  99.724998  99.824997  99.709999  99.775002   \n",
      "2022-10-13 15:58:00-04:00  99.775002  99.800003  99.709999  99.764999   \n",
      "2022-10-13 15:59:00-04:00  99.769997  99.809998  99.559998  99.680000   \n",
      "2022-10-13 16:00:00-04:00  99.709999  99.709999  99.709999  99.709999   \n",
      "\n",
      "                           Adj Close   Volume  \n",
      "Datetime                                       \n",
      "2022-10-13 09:30:00-04:00  95.769997  1107525  \n",
      "2022-10-13 09:31:00-04:00  95.809998   111626  \n",
      "2022-10-13 09:32:00-04:00  95.570000    92220  \n",
      "2022-10-13 09:33:00-04:00  95.949997   144183  \n",
      "2022-10-13 09:34:00-04:00  96.019897   131369  \n",
      "...                              ...      ...  \n",
      "2022-10-13 15:56:00-04:00  99.720001   176279  \n",
      "2022-10-13 15:57:00-04:00  99.775002   196621  \n",
      "2022-10-13 15:58:00-04:00  99.764999   182375  \n",
      "2022-10-13 15:59:00-04:00  99.680000   858744  \n",
      "2022-10-13 16:00:00-04:00  99.709999        0  \n",
      "\n",
      "[391 rows x 6 columns]\n"
     ]
    },
    {
     "ename": "ValueError",
     "evalue": "Mime type rendering requires nbformat>=4.2.0 but it is not installed",
     "output_type": "error",
     "traceback": [
      "\u001b[1;31m---------------------------------------------------------------------------\u001b[0m",
      "\u001b[1;31mValueError\u001b[0m                                Traceback (most recent call last)",
      "Cell \u001b[1;32mIn [7], line 50\u001b[0m\n\u001b[0;32m     33\u001b[0m fig\u001b[39m.\u001b[39mupdate_layout(\n\u001b[0;32m     34\u001b[0m     title\u001b[39m=\u001b[39m \u001b[39mstr\u001b[39m(stock)\u001b[39m+\u001b[39m\u001b[39m'\u001b[39m\u001b[39m Live Share Price:\u001b[39m\u001b[39m'\u001b[39m,\n\u001b[0;32m     35\u001b[0m     yaxis_title\u001b[39m=\u001b[39m\u001b[39m'\u001b[39m\u001b[39mStock Price (USD per Shares)\u001b[39m\u001b[39m'\u001b[39m)               \n\u001b[0;32m     37\u001b[0m fig\u001b[39m.\u001b[39mupdate_xaxes(\n\u001b[0;32m     38\u001b[0m     rangeslider_visible\u001b[39m=\u001b[39m\u001b[39mTrue\u001b[39;00m,\n\u001b[0;32m     39\u001b[0m     rangeselector\u001b[39m=\u001b[39m\u001b[39mdict\u001b[39m(\n\u001b[1;32m   (...)\u001b[0m\n\u001b[0;32m     47\u001b[0m     )\n\u001b[0;32m     48\u001b[0m )\n\u001b[1;32m---> 50\u001b[0m fig\u001b[39m.\u001b[39;49mshow()\n",
      "File \u001b[1;32mc:\\Users\\lclgo\\AppData\\Local\\Programs\\Python\\Python38\\lib\\site-packages\\plotly\\basedatatypes.py:3398\u001b[0m, in \u001b[0;36mBaseFigure.show\u001b[1;34m(self, *args, **kwargs)\u001b[0m\n\u001b[0;32m   3365\u001b[0m \u001b[39m\"\"\"\u001b[39;00m\n\u001b[0;32m   3366\u001b[0m \u001b[39mShow a figure using either the default renderer(s) or the renderer(s)\u001b[39;00m\n\u001b[0;32m   3367\u001b[0m \u001b[39mspecified by the renderer argument\u001b[39;00m\n\u001b[1;32m   (...)\u001b[0m\n\u001b[0;32m   3394\u001b[0m \u001b[39mNone\u001b[39;00m\n\u001b[0;32m   3395\u001b[0m \u001b[39m\"\"\"\u001b[39;00m\n\u001b[0;32m   3396\u001b[0m \u001b[39mimport\u001b[39;00m \u001b[39mplotly\u001b[39;00m\u001b[39m.\u001b[39;00m\u001b[39mio\u001b[39;00m \u001b[39mas\u001b[39;00m \u001b[39mpio\u001b[39;00m\n\u001b[1;32m-> 3398\u001b[0m \u001b[39mreturn\u001b[39;00m pio\u001b[39m.\u001b[39;49mshow(\u001b[39mself\u001b[39;49m, \u001b[39m*\u001b[39;49margs, \u001b[39m*\u001b[39;49m\u001b[39m*\u001b[39;49mkwargs)\n",
      "File \u001b[1;32mc:\\Users\\lclgo\\AppData\\Local\\Programs\\Python\\Python38\\lib\\site-packages\\plotly\\io\\_renderers.py:396\u001b[0m, in \u001b[0;36mshow\u001b[1;34m(fig, renderer, validate, **kwargs)\u001b[0m\n\u001b[0;32m    391\u001b[0m         \u001b[39mraise\u001b[39;00m \u001b[39mValueError\u001b[39;00m(\n\u001b[0;32m    392\u001b[0m             \u001b[39m\"\u001b[39m\u001b[39mMime type rendering requires ipython but it is not installed\u001b[39m\u001b[39m\"\u001b[39m\n\u001b[0;32m    393\u001b[0m         )\n\u001b[0;32m    395\u001b[0m     \u001b[39mif\u001b[39;00m \u001b[39mnot\u001b[39;00m nbformat \u001b[39mor\u001b[39;00m LooseVersion(nbformat\u001b[39m.\u001b[39m__version__) \u001b[39m<\u001b[39m LooseVersion(\u001b[39m\"\u001b[39m\u001b[39m4.2.0\u001b[39m\u001b[39m\"\u001b[39m):\n\u001b[1;32m--> 396\u001b[0m         \u001b[39mraise\u001b[39;00m \u001b[39mValueError\u001b[39;00m(\n\u001b[0;32m    397\u001b[0m             \u001b[39m\"\u001b[39m\u001b[39mMime type rendering requires nbformat>=4.2.0 but it is not installed\u001b[39m\u001b[39m\"\u001b[39m\n\u001b[0;32m    398\u001b[0m         )\n\u001b[0;32m    400\u001b[0m     ipython_display\u001b[39m.\u001b[39mdisplay(bundle, raw\u001b[39m=\u001b[39m\u001b[39mTrue\u001b[39;00m)\n\u001b[0;32m    402\u001b[0m \u001b[39m# external renderers\u001b[39;00m\n",
      "\u001b[1;31mValueError\u001b[0m: Mime type rendering requires nbformat>=4.2.0 but it is not installed"
     ]
    }
   ],
   "source": [
    "# Raw Package\n",
    "import numpy as np\n",
    "import pandas as pd\n",
    "from pandas_datareader import data as pdr\n",
    "\n",
    "# Market Data \n",
    "import yfinance as yf\n",
    "\n",
    "#Graphing/Visualization\n",
    "import datetime as dt \n",
    "import plotly.graph_objs as go \n",
    "\n",
    "# Override Yahoo Finance \n",
    "yf.pdr_override()\n",
    "\n",
    "# Create input field for our desired stock \n",
    "stock=input(\"Enter a stock ticker symbol: \")\n",
    "\n",
    "# Retrieve stock data frame (df) from yfinance API at an interval of 1m \n",
    "df = yf.download(tickers=stock,period='1d',interval='1m')\n",
    "\n",
    "print(df)\n",
    "\n",
    "# Declare plotly figure (go)\n",
    "fig=go.Figure()\n",
    "\n",
    "fig.add_trace(go.Candlestick(x=df.index,\n",
    "                open=df['Open'],\n",
    "                high=df['High'],\n",
    "                low=df['Low'],\n",
    "                close=df['Close'], name = 'market data'))\n",
    "\n",
    "fig.update_layout(\n",
    "    title= str(stock)+' Live Share Price:',\n",
    "    yaxis_title='Stock Price (USD per Shares)')               \n",
    "\n",
    "fig.update_xaxes(\n",
    "    rangeslider_visible=True,\n",
    "    rangeselector=dict(\n",
    "        buttons=list([\n",
    "            dict(count=15, label=\"15m\", step=\"minute\", stepmode=\"backward\"),\n",
    "            dict(count=45, label=\"45m\", step=\"minute\", stepmode=\"backward\"),\n",
    "            dict(count=1, label=\"HTD\", step=\"hour\", stepmode=\"todate\"),\n",
    "            dict(count=3, label=\"3h\", step=\"hour\", stepmode=\"backward\"),\n",
    "            dict(step=\"all\")\n",
    "        ])\n",
    "    )\n",
    ")\n",
    "\n",
    "fig.show()"
   ]
  },
  {
   "cell_type": "markdown",
   "metadata": {},
   "source": [
    "pip install nbformat plotly"
   ]
  }
 ],
 "metadata": {
  "kernelspec": {
   "display_name": "Python 3.8.10 64-bit",
   "language": "python",
   "name": "python3"
  },
  "language_info": {
   "codemirror_mode": {
    "name": "ipython",
    "version": 3
   },
   "file_extension": ".py",
   "mimetype": "text/x-python",
   "name": "python",
   "nbconvert_exporter": "python",
   "pygments_lexer": "ipython3",
   "version": "3.8.10"
  },
  "orig_nbformat": 4,
  "vscode": {
   "interpreter": {
    "hash": "9650cb4e16cdd4a8e8e2d128bf38d875813998db22a3c986335f89e0cb4d7bb2"
   }
  }
 },
 "nbformat": 4,
 "nbformat_minor": 2
}
