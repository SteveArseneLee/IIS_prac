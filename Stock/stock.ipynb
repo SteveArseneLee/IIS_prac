{
 "cells": [
  {
   "cell_type": "code",
   "execution_count": 1,
   "metadata": {},
   "outputs": [
    {
     "name": "stderr",
     "output_type": "stream",
     "text": [
      "usage: Google Finance Markets Options [-h] [-i] [-ma] [-g] [-l] [-cl] [-cc]\n",
      "                                      [-c]\n",
      "Google Finance Markets Options: error: unrecognized arguments: --ip=127.0.0.1 --stdin=9013 --control=9011 --hb=9010 --Session.signature_scheme=\"hmac-sha256\" --Session.key=b\"0ff1a3ec-29b3-4b31-b620-c5a2688fbc7f\" --shell=9012 --transport=\"tcp\" --iopub=9014 --f=c:\\Users\\lclgo\\AppData\\Roaming\\jupyter\\runtime\\kernel-v2-12252ggESZBhE3JyB.json\n"
     ]
    },
    {
     "ename": "SystemExit",
     "evalue": "2",
     "output_type": "error",
     "traceback": [
      "An exception has occurred, use %tb to see the full traceback.\n",
      "\u001b[1;31mSystemExit\u001b[0m\u001b[1;31m:\u001b[0m 2\n"
     ]
    },
    {
     "name": "stderr",
     "output_type": "stream",
     "text": [
      "c:\\Users\\lclgo\\AppData\\Local\\Programs\\Python\\Python38\\lib\\site-packages\\IPython\\core\\interactiveshell.py:3386: UserWarning: To exit: use 'exit', 'quit', or Ctrl-D.\n",
      "  warn(\"To exit: use 'exit', 'quit', or Ctrl-D.\", stacklevel=1)\n"
     ]
    }
   ],
   "source": [
    "import requests\n",
    "import json\n",
    "import re\n",
    "import argparse\n",
    "from parsel import Selector\n",
    "\n",
    "parser = argparse.ArgumentParser(prog=\"Google Finance Markets Options\")\n",
    "parser.add_argument('-i','--indexes', action=\"store_true\")\n",
    "parser.add_argument('-ma','--most-active', action=\"store_true\")\n",
    "parser.add_argument('-g','--gainers', action=\"store_true\")\n",
    "parser.add_argument('-l','--losers', action=\"store_true\")\n",
    "parser.add_argument('-cl','--climate-leaders', action=\"store_true\")\n",
    "parser.add_argument('-cc','--crypto', action=\"store_true\")\n",
    "parser.add_argument('-c','--currency', action=\"store_true\")\n",
    "\n",
    "args = parser.parse_args()\n",
    "\n",
    "def main():\n",
    "\n",
    "    # https://docs.python-requests.org/en/master/user/quickstart/#custom-headers\n",
    "    # https://www.whatismybrowser.com/detect/what-is-my-user-agent\n",
    "    headers = {\n",
    "        \"User-Agent\": \"Mozilla/5.0 (Windows NT 10.0; Win64; x64) AppleWebKit/537.36 (KHTML, like Gecko) Chrome/103.0.5060.134 Safari/537.36\"\n",
    "    }\n",
    "\n",
    "    if args.indexes:\n",
    "        html = requests.get(\"https://www.google.com/finance/markets/indexes\", headers=headers, timeout=30)\n",
    "        return parser(html=html)\n",
    "\n",
    "    if args.most_active:\n",
    "        html = requests.get(\"https://www.google.com/finance/markets/most-active\", headers=headers, timeout=30)\n",
    "        return parser(html=html)\n",
    "\n",
    "    if args.gainers:\n",
    "        html = requests.get(\"https://www.google.com/finance/markets/gainers\", headers=headers, timeout=30)\n",
    "        return parser(html=html)\n",
    "\n",
    "    if args.losers:\n",
    "        html = requests.get(\"https://www.google.com/finance/markets/losers\", headers=headers, timeout=30)\n",
    "        return parser(html=html)\n",
    "\n",
    "    if args.climate_leaders:\n",
    "        html = requests.get(\"https://www.google.com/finance/markets/climate-leaders\", headers=headers, timeout=30)\n",
    "        return parser(html=html)\n",
    "\n",
    "    if args.crypto:\n",
    "        html = requests.get(\"https://www.google.com/finance/markets/cryptocurrencies\", headers=headers, timeout=30)\n",
    "        return parser(html=html)\n",
    "\n",
    "    if args.currency:\n",
    "        html = requests.get(\"https://www.google.com/finance/markets/currencies\", headers=headers, timeout=30)\n",
    "        return parser(html=html)\n",
    "\n",
    "\n",
    "def parser(html):\n",
    "    selector = Selector(text=html.text)\n",
    "    stock_topic = selector.css(\".Mrksgc::text\").get().split(\"on \")[1].replace(\" \", \"_\")\n",
    "\n",
    "    data = {\n",
    "        f\"{stock_topic}_trends\": [],\n",
    "        f\"{stock_topic}_discover_more\": [],\n",
    "        f\"{stock_topic}_news\": []\n",
    "    }\n",
    "\n",
    "    # news ressults\n",
    "    for index, news_results in enumerate(selector.css(\".yY3Lee\"), start=1):\n",
    "        data[f\"{stock_topic}_news\"].append({\n",
    "            \"position\": index,\n",
    "            \"title\": news_results.css(\".mRjSYb::text\").get(),\n",
    "            \"source\": news_results.css(\".sfyJob::text\").get(),\n",
    "            \"date\": news_results.css(\".Adak::text\").get(),\n",
    "            \"image\": news_results.css(\"img::attr(src)\").get(),\n",
    "        })\n",
    "\n",
    "    # stocks table\n",
    "    for index, stock_results in enumerate(selector.css(\"li a\"), start=1):\n",
    "        current_percent_change_raw_value = stock_results.css(\"[jsname=Fe7oBc]::attr(aria-label)\").get()\n",
    "        current_percent_change = re.search(r\"\\d+\\.\\d+%\", stock_results.css(\"[jsname=Fe7oBc]::attr(aria-label)\").get()).group()\n",
    "\n",
    "        # ./quote/SNAP:NASDAQ -> SNAP:NASDAQ\n",
    "        quote = stock_results.attrib[\"href\"].replace(\"./quote/\", \"\")\n",
    "\n",
    "        data[f\"{stock_topic}_trends\"].append({\n",
    "            \"position\": index,\n",
    "            \"title\": stock_results.css(\".ZvmM7::text\").get(),\n",
    "            \"quote\": stock_results.css(\".COaKTb::text\").get(),\n",
    "            # \"https://www.google.com/finance/MSFT:NASDAQ\"\n",
    "            \"quote_link\": f\"https://www.google.com/finance/{quote}\",\n",
    "            \"price_change\": stock_results.css(\".SEGxAb .P2Luy::text\").get(),\n",
    "            \"percent_price_change\": f\"+{current_percent_change}\" if \"Up\" in current_percent_change_raw_value else f\"-{current_percent_change}\"\n",
    "        })\n",
    "\n",
    "    # \"you may be interested in\" at the bottom of the page\n",
    "    for index, interested_bottom in enumerate(selector.css(\".HDXgAf .tOzDHb\"), start=1):\n",
    "        current_percent_change_raw_value = interested_bottom.css(\"[jsname=Fe7oBc]::attr(aria-label)\").get()\n",
    "        current_percent_change = re.search(r\"\\d+\\.\\d+%\", interested_bottom.css(\"[jsname=Fe7oBc]::attr(aria-label)\").get()).group()\n",
    "\n",
    "        quote = stock_results.attrib[\"href\"].replace(\"./quote/\", \"\")\n",
    "\n",
    "        data[f\"{stock_topic}_discover_more\"].append({\n",
    "            \"position\": index,\n",
    "            \"quote\": interested_bottom.css(\".COaKTb::text\").get(),\n",
    "            \"quote_link\": f\"https://www.google.com/finance{quote}\",\n",
    "            \"title\": interested_bottom.css(\".RwFyvf::text\").get(),\n",
    "            \"price\": interested_bottom.css(\".YMlKec::text\").get(),\n",
    "            \"percent_price_change\": f\"+{current_percent_change}\" if \"Up\" in current_percent_change_raw_value else f\"-{current_percent_change}\"\n",
    "        })\n",
    "\n",
    "    return data\n",
    "\n",
    "    \n",
    "\n",
    "if __name__ == \"__main__\":\n",
    "    print(json.dumps(main(), indent=2, ensure_ascii=False))"
   ]
  },
  {
   "cell_type": "code",
   "execution_count": 3,
   "metadata": {},
   "outputs": [
    {
     "name": "stderr",
     "output_type": "stream",
     "text": [
      "2022-10-13 11:11:55.409 \n",
      "  \u001b[33m\u001b[1mWarning:\u001b[0m to view this Streamlit app on a browser, run it with the following\n",
      "  command:\n",
      "\n",
      "    streamlit run c:\\Users\\lclgo\\AppData\\Local\\Programs\\Python\\Python38\\lib\\site-packages\\ipykernel_launcher.py [ARGUMENTS]\n"
     ]
    },
    {
     "ename": "RemoteDataError",
     "evalue": "No data fetched for symbol  using YahooDailyReader",
     "output_type": "error",
     "traceback": [
      "\u001b[1;31m---------------------------------------------------------------------------\u001b[0m",
      "\u001b[1;31mKeyError\u001b[0m                                  Traceback (most recent call last)",
      "File \u001b[1;32mc:\\Users\\lclgo\\AppData\\Local\\Programs\\Python\\Python38\\lib\\site-packages\\pandas_datareader\\yahoo\\daily.py:153\u001b[0m, in \u001b[0;36mYahooDailyReader._read_one_data\u001b[1;34m(self, url, params)\u001b[0m\n\u001b[0;32m    152\u001b[0m     j \u001b[39m=\u001b[39m json\u001b[39m.\u001b[39mloads(re\u001b[39m.\u001b[39msearch(ptrn, resp\u001b[39m.\u001b[39mtext, re\u001b[39m.\u001b[39mDOTALL)\u001b[39m.\u001b[39mgroup(\u001b[39m1\u001b[39m))\n\u001b[1;32m--> 153\u001b[0m     data \u001b[39m=\u001b[39m j[\u001b[39m\"\u001b[39;49m\u001b[39mcontext\u001b[39;49m\u001b[39m\"\u001b[39;49m][\u001b[39m\"\u001b[39;49m\u001b[39mdispatcher\u001b[39;49m\u001b[39m\"\u001b[39;49m][\u001b[39m\"\u001b[39;49m\u001b[39mstores\u001b[39;49m\u001b[39m\"\u001b[39;49m][\u001b[39m\"\u001b[39;49m\u001b[39mHistoricalPriceStore\u001b[39;49m\u001b[39m\"\u001b[39;49m]\n\u001b[0;32m    154\u001b[0m \u001b[39mexcept\u001b[39;00m \u001b[39mKeyError\u001b[39;00m:\n",
      "\u001b[1;31mKeyError\u001b[0m: 'HistoricalPriceStore'",
      "\nDuring handling of the above exception, another exception occurred:\n",
      "\u001b[1;31mRemoteDataError\u001b[0m                           Traceback (most recent call last)",
      "Cell \u001b[1;32mIn [3], line 16\u001b[0m\n\u001b[0;32m     14\u001b[0m st\u001b[39m.\u001b[39mtitle(\u001b[39m\"\u001b[39m\u001b[39mReal-time Stock Price Data\u001b[39m\u001b[39m\"\u001b[39m)\n\u001b[0;32m     15\u001b[0m a \u001b[39m=\u001b[39m st\u001b[39m.\u001b[39mtext_input(\u001b[39m\"\u001b[39m\u001b[39mEnter Any Company >>:\u001b[39m\u001b[39m\"\u001b[39m)\n\u001b[1;32m---> 16\u001b[0m data \u001b[39m=\u001b[39m web\u001b[39m.\u001b[39;49mDataReader(name\u001b[39m=\u001b[39;49ma, data_source\u001b[39m=\u001b[39;49m\u001b[39m'\u001b[39;49m\u001b[39myahoo\u001b[39;49m\u001b[39m'\u001b[39;49m, start\u001b[39m=\u001b[39;49mstart_date, end\u001b[39m=\u001b[39;49mend_date)\n\u001b[0;32m     17\u001b[0m fig, ax \u001b[39m=\u001b[39m plt\u001b[39m.\u001b[39msubplots() \n\u001b[0;32m     18\u001b[0m ax \u001b[39m=\u001b[39m data[\u001b[39m\"\u001b[39m\u001b[39mClose\u001b[39m\u001b[39m\"\u001b[39m]\u001b[39m.\u001b[39mplot(figsize\u001b[39m=\u001b[39m(\u001b[39m12\u001b[39m, \u001b[39m8\u001b[39m), title\u001b[39m=\u001b[39ma\u001b[39m+\u001b[39m\u001b[39m\"\u001b[39m\u001b[39m Stock Prices\u001b[39m\u001b[39m\"\u001b[39m, fontsize\u001b[39m=\u001b[39m\u001b[39m20\u001b[39m, label\u001b[39m=\u001b[39m\u001b[39m\"\u001b[39m\u001b[39mClose Price\u001b[39m\u001b[39m\"\u001b[39m)\n",
      "File \u001b[1;32mc:\\Users\\lclgo\\AppData\\Local\\Programs\\Python\\Python38\\lib\\site-packages\\pandas\\util\\_decorators.py:211\u001b[0m, in \u001b[0;36mdeprecate_kwarg.<locals>._deprecate_kwarg.<locals>.wrapper\u001b[1;34m(*args, **kwargs)\u001b[0m\n\u001b[0;32m    209\u001b[0m     \u001b[39melse\u001b[39;00m:\n\u001b[0;32m    210\u001b[0m         kwargs[new_arg_name] \u001b[39m=\u001b[39m new_arg_value\n\u001b[1;32m--> 211\u001b[0m \u001b[39mreturn\u001b[39;00m func(\u001b[39m*\u001b[39;49margs, \u001b[39m*\u001b[39;49m\u001b[39m*\u001b[39;49mkwargs)\n",
      "File \u001b[1;32mc:\\Users\\lclgo\\AppData\\Local\\Programs\\Python\\Python38\\lib\\site-packages\\pandas_datareader\\data.py:370\u001b[0m, in \u001b[0;36mDataReader\u001b[1;34m(name, data_source, start, end, retry_count, pause, session, api_key)\u001b[0m\n\u001b[0;32m    367\u001b[0m     \u001b[39mraise\u001b[39;00m \u001b[39mNotImplementedError\u001b[39;00m(msg)\n\u001b[0;32m    369\u001b[0m \u001b[39mif\u001b[39;00m data_source \u001b[39m==\u001b[39m \u001b[39m\"\u001b[39m\u001b[39myahoo\u001b[39m\u001b[39m\"\u001b[39m:\n\u001b[1;32m--> 370\u001b[0m     \u001b[39mreturn\u001b[39;00m YahooDailyReader(\n\u001b[0;32m    371\u001b[0m         symbols\u001b[39m=\u001b[39;49mname,\n\u001b[0;32m    372\u001b[0m         start\u001b[39m=\u001b[39;49mstart,\n\u001b[0;32m    373\u001b[0m         end\u001b[39m=\u001b[39;49mend,\n\u001b[0;32m    374\u001b[0m         adjust_price\u001b[39m=\u001b[39;49m\u001b[39mFalse\u001b[39;49;00m,\n\u001b[0;32m    375\u001b[0m         chunksize\u001b[39m=\u001b[39;49m\u001b[39m25\u001b[39;49m,\n\u001b[0;32m    376\u001b[0m         retry_count\u001b[39m=\u001b[39;49mretry_count,\n\u001b[0;32m    377\u001b[0m         pause\u001b[39m=\u001b[39;49mpause,\n\u001b[0;32m    378\u001b[0m         session\u001b[39m=\u001b[39;49msession,\n\u001b[0;32m    379\u001b[0m     )\u001b[39m.\u001b[39;49mread()\n\u001b[0;32m    381\u001b[0m \u001b[39melif\u001b[39;00m data_source \u001b[39m==\u001b[39m \u001b[39m\"\u001b[39m\u001b[39miex\u001b[39m\u001b[39m\"\u001b[39m:\n\u001b[0;32m    382\u001b[0m     \u001b[39mreturn\u001b[39;00m IEXDailyReader(\n\u001b[0;32m    383\u001b[0m         symbols\u001b[39m=\u001b[39mname,\n\u001b[0;32m    384\u001b[0m         start\u001b[39m=\u001b[39mstart,\n\u001b[1;32m   (...)\u001b[0m\n\u001b[0;32m    390\u001b[0m         session\u001b[39m=\u001b[39msession,\n\u001b[0;32m    391\u001b[0m     )\u001b[39m.\u001b[39mread()\n",
      "File \u001b[1;32mc:\\Users\\lclgo\\AppData\\Local\\Programs\\Python\\Python38\\lib\\site-packages\\pandas_datareader\\base.py:253\u001b[0m, in \u001b[0;36m_DailyBaseReader.read\u001b[1;34m(self)\u001b[0m\n\u001b[0;32m    251\u001b[0m \u001b[39m# If a single symbol, (e.g., 'GOOG')\u001b[39;00m\n\u001b[0;32m    252\u001b[0m \u001b[39mif\u001b[39;00m \u001b[39misinstance\u001b[39m(\u001b[39mself\u001b[39m\u001b[39m.\u001b[39msymbols, (string_types, \u001b[39mint\u001b[39m)):\n\u001b[1;32m--> 253\u001b[0m     df \u001b[39m=\u001b[39m \u001b[39mself\u001b[39;49m\u001b[39m.\u001b[39;49m_read_one_data(\u001b[39mself\u001b[39;49m\u001b[39m.\u001b[39;49murl, params\u001b[39m=\u001b[39;49m\u001b[39mself\u001b[39;49m\u001b[39m.\u001b[39;49m_get_params(\u001b[39mself\u001b[39;49m\u001b[39m.\u001b[39;49msymbols))\n\u001b[0;32m    254\u001b[0m \u001b[39m# Or multiple symbols, (e.g., ['GOOG', 'AAPL', 'MSFT'])\u001b[39;00m\n\u001b[0;32m    255\u001b[0m \u001b[39melif\u001b[39;00m \u001b[39misinstance\u001b[39m(\u001b[39mself\u001b[39m\u001b[39m.\u001b[39msymbols, DataFrame):\n",
      "File \u001b[1;32mc:\\Users\\lclgo\\AppData\\Local\\Programs\\Python\\Python38\\lib\\site-packages\\pandas_datareader\\yahoo\\daily.py:156\u001b[0m, in \u001b[0;36mYahooDailyReader._read_one_data\u001b[1;34m(self, url, params)\u001b[0m\n\u001b[0;32m    154\u001b[0m \u001b[39mexcept\u001b[39;00m \u001b[39mKeyError\u001b[39;00m:\n\u001b[0;32m    155\u001b[0m     msg \u001b[39m=\u001b[39m \u001b[39m\"\u001b[39m\u001b[39mNo data fetched for symbol \u001b[39m\u001b[39m{}\u001b[39;00m\u001b[39m using \u001b[39m\u001b[39m{}\u001b[39;00m\u001b[39m\"\u001b[39m\n\u001b[1;32m--> 156\u001b[0m     \u001b[39mraise\u001b[39;00m RemoteDataError(msg\u001b[39m.\u001b[39mformat(symbol, \u001b[39mself\u001b[39m\u001b[39m.\u001b[39m\u001b[39m__class__\u001b[39m\u001b[39m.\u001b[39m\u001b[39m__name__\u001b[39m))\n\u001b[0;32m    158\u001b[0m \u001b[39m# price data\u001b[39;00m\n\u001b[0;32m    159\u001b[0m prices \u001b[39m=\u001b[39m DataFrame(data[\u001b[39m\"\u001b[39m\u001b[39mprices\u001b[39m\u001b[39m\"\u001b[39m])\n",
      "\u001b[1;31mRemoteDataError\u001b[0m: No data fetched for symbol  using YahooDailyReader"
     ]
    }
   ],
   "source": [
    "import pandas as pd\n",
    "import pandas_datareader.data as web\n",
    "import matplotlib.pyplot as plt\n",
    "import datetime\n",
    "from datetime import date, timedelta\n",
    "today = date.today()\n",
    "\n",
    "d1 = today.strftime(\"%Y/%m/%d\")\n",
    "end_date = d1\n",
    "d2 = date.today() - timedelta(days=360)\n",
    "d2 = d2.strftime(\"%Y/%m/%d\")\n",
    "start_date = d2\n",
    "import streamlit as st\n",
    "st.title(\"Real-time Stock Price Data\")\n",
    "a = st.text_input(\"Enter Any Company >>:\")\n",
    "data = web.DataReader(name=a, data_source='yahoo', start=start_date, end=end_date)\n",
    "fig, ax = plt.subplots() \n",
    "ax = data[\"Close\"].plot(figsize=(12, 8), title=a+\" Stock Prices\", fontsize=20, label=\"Close Price\")\n",
    "plt.legend()\n",
    "plt.grid()\n",
    "st.pyplot(fig)"
   ]
  }
 ],
 "metadata": {
  "kernelspec": {
   "display_name": "Python 3.8.10 64-bit",
   "language": "python",
   "name": "python3"
  },
  "language_info": {
   "codemirror_mode": {
    "name": "ipython",
    "version": 3
   },
   "file_extension": ".py",
   "mimetype": "text/x-python",
   "name": "python",
   "nbconvert_exporter": "python",
   "pygments_lexer": "ipython3",
   "version": "3.8.10"
  },
  "orig_nbformat": 4,
  "vscode": {
   "interpreter": {
    "hash": "0eefd16b5bba557df9700cf45efb17a34178189ce0c0ce0544e5f59c0d8c8236"
   }
  }
 },
 "nbformat": 4,
 "nbformat_minor": 2
}
