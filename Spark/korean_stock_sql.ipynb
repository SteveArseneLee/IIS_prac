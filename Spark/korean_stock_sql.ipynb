{
 "cells": [
  {
   "cell_type": "code",
   "execution_count": 9,
   "metadata": {},
   "outputs": [],
   "source": [
    "from pyspark.sql import SparkSession"
   ]
  },
  {
   "cell_type": "code",
   "execution_count": 10,
   "metadata": {},
   "outputs": [],
   "source": [
    "spark = SparkSession.builder.appName(\"korean_stock_count_sql\").getOrCreate()"
   ]
  },
  {
   "cell_type": "code",
   "execution_count": 11,
   "metadata": {},
   "outputs": [],
   "source": [
    "directory = \"/home/steve/Capstone/IIS/Stock/Korean_stock/Korean_stock_data\"\n",
    "filename = \"DL.csv\""
   ]
  },
  {
   "cell_type": "code",
   "execution_count": 13,
   "metadata": {},
   "outputs": [],
   "source": [
    "data = spark.read.csv(f\"file:///{directory}/{filename}\", inferSchema = True, header = True)"
   ]
  },
  {
   "cell_type": "code",
   "execution_count": 14,
   "metadata": {},
   "outputs": [],
   "source": [
    "data.createOrReplaceTempView(\"korean_stock_data\")"
   ]
  },
  {
   "cell_type": "code",
   "execution_count": 16,
   "metadata": {},
   "outputs": [
    {
     "name": "stdout",
     "output_type": "stream",
     "text": [
      "+-------+-------+-------+-------+--------+-------------+\n",
      "|   High|    Low|   Open|  Close|  Volume|    Adj Close|\n",
      "+-------+-------+-------+-------+--------+-------------+\n",
      "|86900.0|83400.0|83400.0|86300.0|181929.0|74565.3671875|\n",
      "|87800.0|84500.0|87500.0|85100.0|176103.0|  73528.53125|\n",
      "|85800.0|84100.0|85500.0|84800.0| 91145.0|73269.3203125|\n",
      "|87500.0|84500.0|84500.0|85300.0|153080.0|73701.3359375|\n",
      "|85300.0|83100.0|85300.0|83300.0|101629.0|  71973.28125|\n",
      "+-------+-------+-------+-------+--------+-------------+\n",
      "\n"
     ]
    }
   ],
   "source": [
    "spark.sql(\"select * from korean_stock_data limit 5\").show()"
   ]
  },
  {
   "cell_type": "code",
   "execution_count": null,
   "metadata": {},
   "outputs": [],
   "source": []
  }
 ],
 "metadata": {
  "kernelspec": {
   "display_name": "Python 3.8.10 64-bit",
   "language": "python",
   "name": "python3"
  },
  "language_info": {
   "codemirror_mode": {
    "name": "ipython",
    "version": 3
   },
   "file_extension": ".py",
   "mimetype": "text/x-python",
   "name": "python",
   "nbconvert_exporter": "python",
   "pygments_lexer": "ipython3",
   "version": "3.8.10"
  },
  "orig_nbformat": 4,
  "vscode": {
   "interpreter": {
    "hash": "916dbcbb3f70747c44a77c7bcd40155683ae19c65e1c03b4aa3499c5328201f1"
   }
  }
 },
 "nbformat": 4,
 "nbformat_minor": 2
}
