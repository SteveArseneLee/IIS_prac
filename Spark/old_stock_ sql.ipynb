{
 "cells": [
  {
   "cell_type": "code",
   "execution_count": 18,
   "metadata": {},
   "outputs": [],
   "source": [
    "from pyspark.sql import SparkSession\n",
    "# import pandas as pd\n",
    "\n",
    "spark = SparkSession.builder.appName(\"uber-date-trips-sql\").getOrCreate()\n",
    "\n",
    "directory = \"/home/steve/Capstone/IIS/Stock\"\n",
    "filename = \"AAPL.csv\"\n",
    "\n",
    "data = spark.read.csv(f\"file:///{directory}/{filename}\", inferSchema = True, header = True)\n",
    "\n",
    "# print(data)"
   ]
  },
  {
   "cell_type": "code",
   "execution_count": 14,
   "metadata": {},
   "outputs": [],
   "source": [
    "from pyspark import SparkConf, SparkContext\n",
    "import pandas as pd\n",
    "\n",
    "conf = SparkConf().setMaster(\"local\").setAppName(\"uber-date-trips\")\n",
    "sc = SparkContext(conf=conf)\n",
    "\n",
    "directory = \"/home/steve/Capstone/IIS/Stock\"\n",
    "filename = \"GOOG.csv\"\n",
    "\n",
    "lines = sc.textFile(f\"file:///{directory}/{filename}\")"
   ]
  },
  {
   "cell_type": "code",
   "execution_count": 15,
   "metadata": {},
   "outputs": [],
   "source": [
    "header = lines.first() \n",
    "filtered_lines = lines.filter(lambda row:row != header) "
   ]
  },
  {
   "cell_type": "code",
   "execution_count": 16,
   "metadata": {},
   "outputs": [
    {
     "ename": "AttributeError",
     "evalue": "'PipelinedRDD' object has no attribute 'show'",
     "output_type": "error",
     "traceback": [
      "\u001b[0;31m---------------------------------------------------------------------------\u001b[0m",
      "\u001b[0;31mAttributeError\u001b[0m                            Traceback (most recent call last)",
      "\u001b[1;32m/home/steve/Capstone/IIS/Spark/old_stock_ sql.ipynb 셀 4\u001b[0m in \u001b[0;36m<cell line: 1>\u001b[0;34m()\u001b[0m\n\u001b[0;32m----> <a href='vscode-notebook-cell://wsl%2Bubuntu-20.04/home/steve/Capstone/IIS/Spark/old_stock_%20sql.ipynb#W5sdnNjb2RlLXJlbW90ZQ%3D%3D?line=0'>1</a>\u001b[0m filtered_lines\u001b[39m.\u001b[39;49mshow(\u001b[39m5\u001b[39m)\n",
      "\u001b[0;31mAttributeError\u001b[0m: 'PipelinedRDD' object has no attribute 'show'"
     ]
    }
   ],
   "source": [
    "filtered_lines.show(5)"
   ]
  },
  {
   "cell_type": "code",
   "execution_count": 19,
   "metadata": {},
   "outputs": [
    {
     "name": "stdout",
     "output_type": "stream",
     "text": [
      "22/10/17 20:09:44 WARN CSVHeaderChecker: CSV header does not conform to the schema.\n",
      " Header: , Date, Open, High, Low, Close, Adj Close, Volume\n",
      " Schema: _c0, Date, Open, High, Low, Close, Adj Close, Volume\n",
      "Expected: _c0 but found: \n",
      "CSV file: file:///home/steve/Capstone/IIS/Stock/AAPL.csv\n",
      "+---+-------------------+---------+---------+---------+---------+---------+---------+\n",
      "|_c0|               Date|     Open|     High|      Low|    Close|Adj Close|   Volume|\n",
      "+---+-------------------+---------+---------+---------+---------+---------+---------+\n",
      "|  0|2012-01-03 00:00:00|14.621429|14.732143|14.607143|14.686786|12.540045|302220800|\n",
      "|  1|2012-01-04 00:00:00|14.642857|    14.81|14.617143|14.765714|12.607439|260022000|\n",
      "|  2|2012-01-05 00:00:00|14.819643|14.948214|14.738214|14.929643|12.747405|271269600|\n",
      "|  3|2012-01-06 00:00:00|14.991786|15.098214|14.972143|15.085714|12.880666|318292800|\n",
      "|  4|2012-01-09 00:00:00|15.196429|15.276786|15.048214|15.061786|12.860234|394024400|\n",
      "+---+-------------------+---------+---------+---------+---------+---------+---------+\n",
      "only showing top 5 rows\n",
      "\n"
     ]
    }
   ],
   "source": [
    "data.show(5)"
   ]
  },
  {
   "cell_type": "code",
   "execution_count": 20,
   "metadata": {},
   "outputs": [],
   "source": [
    "data.createOrReplaceTempView(\"APPLE_old_data\")"
   ]
  },
  {
   "cell_type": "code",
   "execution_count": 21,
   "metadata": {},
   "outputs": [
    {
     "name": "stdout",
     "output_type": "stream",
     "text": [
      "22/10/17 20:11:12 WARN CSVHeaderChecker: CSV header does not conform to the schema.\n",
      " Header: , Date, Open, High, Low, Close, Adj Close, Volume\n",
      " Schema: _c0, Date, Open, High, Low, Close, Adj Close, Volume\n",
      "Expected: _c0 but found: \n",
      "CSV file: file:///home/steve/Capstone/IIS/Stock/AAPL.csv\n",
      "+---+-------------------+---------+---------+---------+---------+---------+---------+\n",
      "|_c0|               Date|     Open|     High|      Low|    Close|Adj Close|   Volume|\n",
      "+---+-------------------+---------+---------+---------+---------+---------+---------+\n",
      "|  0|2012-01-03 00:00:00|14.621429|14.732143|14.607143|14.686786|12.540045|302220800|\n",
      "|  1|2012-01-04 00:00:00|14.642857|    14.81|14.617143|14.765714|12.607439|260022000|\n",
      "|  2|2012-01-05 00:00:00|14.819643|14.948214|14.738214|14.929643|12.747405|271269600|\n",
      "|  3|2012-01-06 00:00:00|14.991786|15.098214|14.972143|15.085714|12.880666|318292800|\n",
      "|  4|2012-01-09 00:00:00|15.196429|15.276786|15.048214|15.061786|12.860234|394024400|\n",
      "+---+-------------------+---------+---------+---------+---------+---------+---------+\n",
      "\n"
     ]
    }
   ],
   "source": [
    "spark.sql(\"select * from APPLE_old_data limit 5\").show()"
   ]
  },
  {
   "cell_type": "code",
   "execution_count": 27,
   "metadata": {},
   "outputs": [
    {
     "name": "stdout",
     "output_type": "stream",
     "text": [
      "+-------------------+---------+\n",
      "|               Date|     Open|\n",
      "+-------------------+---------+\n",
      "|2012-01-03 00:00:00|14.621429|\n",
      "|2012-01-04 00:00:00|14.642857|\n",
      "|2012-01-05 00:00:00|14.819643|\n",
      "|2012-01-06 00:00:00|14.991786|\n",
      "|2012-01-09 00:00:00|15.196429|\n",
      "|2012-01-10 00:00:00|15.211071|\n",
      "|2012-01-11 00:00:00|15.095714|\n",
      "|2012-01-12 00:00:00|15.081429|\n",
      "|2012-01-13 00:00:00|14.989286|\n",
      "|2012-01-17 00:00:00|    15.15|\n",
      "|2012-01-18 00:00:00|15.248571|\n",
      "|2012-01-19 00:00:00|  15.3625|\n",
      "|2012-01-20 00:00:00|  15.2675|\n",
      "|2012-01-23 00:00:00|15.095357|\n",
      "|2012-01-24 00:00:00|15.182143|\n",
      "|2012-01-25 00:00:00|    16.23|\n",
      "|2012-01-26 00:00:00|16.012857|\n",
      "|2012-01-27 00:00:00|15.869286|\n",
      "|2012-01-30 00:00:00|15.918214|\n",
      "|2012-01-31 00:00:00| 16.27107|\n",
      "+-------------------+---------+\n",
      "only showing top 20 rows\n",
      "\n"
     ]
    }
   ],
   "source": [
    "spark.sql(\"select Date, Open from APPLE_old_data\").show()"
   ]
  },
  {
   "cell_type": "code",
   "execution_count": 23,
   "metadata": {},
   "outputs": [
    {
     "ename": "AnalysisException",
     "evalue": "Column 'Date' does not exist. Did you mean one of the following? [__auto_generated_subquery_name.pickup_date]; line 1 pos 7;\n'Aggregate ['date], ['Date, count(1) AS open#161L]\n+- SubqueryAlias __auto_generated_subquery_name\n   +- Project [split(cast(Date#51 as string),  , -1)[0] AS pickup_date#160]\n      +- SubqueryAlias apple_old_data\n         +- View (`APPLE_old_data`, [_c0#50,Date#51,Open#52,High#53,Low#54,Close#55,Adj Close#56,Volume#57])\n            +- Relation [_c0#50,Date#51,Open#52,High#53,Low#54,Close#55,Adj Close#56,Volume#57] csv\n",
     "output_type": "error",
     "traceback": [
      "\u001b[0;31m---------------------------------------------------------------------------\u001b[0m",
      "\u001b[0;31mAnalysisException\u001b[0m                         Traceback (most recent call last)",
      "\u001b[1;32m/home/steve/Capstone/IIS/Spark/old_stock_ sql.ipynb 셀 8\u001b[0m in \u001b[0;36m<cell line: 1>\u001b[0;34m()\u001b[0m\n\u001b[0;32m----> <a href='vscode-notebook-cell://wsl%2Bubuntu-20.04/home/steve/Capstone/IIS/Spark/old_stock_%20sql.ipynb#X12sdnNjb2RlLXJlbW90ZQ%3D%3D?line=0'>1</a>\u001b[0m spark\u001b[39m.\u001b[39;49msql(\u001b[39m\"\u001b[39;49m\u001b[39mselect Date, count(*) as open \u001b[39;49m\u001b[39m\\\u001b[39;49;00m\n\u001b[1;32m      <a href='vscode-notebook-cell://wsl%2Bubuntu-20.04/home/steve/Capstone/IIS/Spark/old_stock_%20sql.ipynb#X12sdnNjb2RlLXJlbW90ZQ%3D%3D?line=1'>2</a>\u001b[0m \u001b[39m    from (select split(Date, \u001b[39;49m\u001b[39m'\u001b[39;49m\u001b[39m \u001b[39;49m\u001b[39m'\u001b[39;49m\u001b[39m)[0] \u001b[39;49m\u001b[39m\\\u001b[39;49;00m\n\u001b[1;32m      <a href='vscode-notebook-cell://wsl%2Bubuntu-20.04/home/steve/Capstone/IIS/Spark/old_stock_%20sql.ipynb#X12sdnNjb2RlLXJlbW90ZQ%3D%3D?line=2'>3</a>\u001b[0m \u001b[39m          as pickup_date from APPLE_old_data) \u001b[39;49m\u001b[39m\\\u001b[39;49;00m\n\u001b[1;32m      <a href='vscode-notebook-cell://wsl%2Bubuntu-20.04/home/steve/Capstone/IIS/Spark/old_stock_%20sql.ipynb#X12sdnNjb2RlLXJlbW90ZQ%3D%3D?line=3'>4</a>\u001b[0m \u001b[39m          group by date \u001b[39;49m\u001b[39m\"\u001b[39;49m)\u001b[39m.\u001b[39mexplain(\u001b[39mTrue\u001b[39;00m)\n",
      "File \u001b[0;32m~/.local/lib/python3.8/site-packages/pyspark/sql/session.py:1034\u001b[0m, in \u001b[0;36mSparkSession.sql\u001b[0;34m(self, sqlQuery, **kwargs)\u001b[0m\n\u001b[1;32m   1032\u001b[0m     sqlQuery \u001b[39m=\u001b[39m formatter\u001b[39m.\u001b[39mformat(sqlQuery, \u001b[39m*\u001b[39m\u001b[39m*\u001b[39mkwargs)\n\u001b[1;32m   1033\u001b[0m \u001b[39mtry\u001b[39;00m:\n\u001b[0;32m-> 1034\u001b[0m     \u001b[39mreturn\u001b[39;00m DataFrame(\u001b[39mself\u001b[39;49m\u001b[39m.\u001b[39;49m_jsparkSession\u001b[39m.\u001b[39;49msql(sqlQuery), \u001b[39mself\u001b[39m)\n\u001b[1;32m   1035\u001b[0m \u001b[39mfinally\u001b[39;00m:\n\u001b[1;32m   1036\u001b[0m     \u001b[39mif\u001b[39;00m \u001b[39mlen\u001b[39m(kwargs) \u001b[39m>\u001b[39m \u001b[39m0\u001b[39m:\n",
      "File \u001b[0;32m~/.local/lib/python3.8/site-packages/py4j/java_gateway.py:1321\u001b[0m, in \u001b[0;36mJavaMember.__call__\u001b[0;34m(self, *args)\u001b[0m\n\u001b[1;32m   1315\u001b[0m command \u001b[39m=\u001b[39m proto\u001b[39m.\u001b[39mCALL_COMMAND_NAME \u001b[39m+\u001b[39m\\\n\u001b[1;32m   1316\u001b[0m     \u001b[39mself\u001b[39m\u001b[39m.\u001b[39mcommand_header \u001b[39m+\u001b[39m\\\n\u001b[1;32m   1317\u001b[0m     args_command \u001b[39m+\u001b[39m\\\n\u001b[1;32m   1318\u001b[0m     proto\u001b[39m.\u001b[39mEND_COMMAND_PART\n\u001b[1;32m   1320\u001b[0m answer \u001b[39m=\u001b[39m \u001b[39mself\u001b[39m\u001b[39m.\u001b[39mgateway_client\u001b[39m.\u001b[39msend_command(command)\n\u001b[0;32m-> 1321\u001b[0m return_value \u001b[39m=\u001b[39m get_return_value(\n\u001b[1;32m   1322\u001b[0m     answer, \u001b[39mself\u001b[39;49m\u001b[39m.\u001b[39;49mgateway_client, \u001b[39mself\u001b[39;49m\u001b[39m.\u001b[39;49mtarget_id, \u001b[39mself\u001b[39;49m\u001b[39m.\u001b[39;49mname)\n\u001b[1;32m   1324\u001b[0m \u001b[39mfor\u001b[39;00m temp_arg \u001b[39min\u001b[39;00m temp_args:\n\u001b[1;32m   1325\u001b[0m     temp_arg\u001b[39m.\u001b[39m_detach()\n",
      "File \u001b[0;32m~/.local/lib/python3.8/site-packages/pyspark/sql/utils.py:196\u001b[0m, in \u001b[0;36mcapture_sql_exception.<locals>.deco\u001b[0;34m(*a, **kw)\u001b[0m\n\u001b[1;32m    192\u001b[0m converted \u001b[39m=\u001b[39m convert_exception(e\u001b[39m.\u001b[39mjava_exception)\n\u001b[1;32m    193\u001b[0m \u001b[39mif\u001b[39;00m \u001b[39mnot\u001b[39;00m \u001b[39misinstance\u001b[39m(converted, UnknownException):\n\u001b[1;32m    194\u001b[0m     \u001b[39m# Hide where the exception came from that shows a non-Pythonic\u001b[39;00m\n\u001b[1;32m    195\u001b[0m     \u001b[39m# JVM exception message.\u001b[39;00m\n\u001b[0;32m--> 196\u001b[0m     \u001b[39mraise\u001b[39;00m converted \u001b[39mfrom\u001b[39;00m \u001b[39mNone\u001b[39m\n\u001b[1;32m    197\u001b[0m \u001b[39melse\u001b[39;00m:\n\u001b[1;32m    198\u001b[0m     \u001b[39mraise\u001b[39;00m\n",
      "\u001b[0;31mAnalysisException\u001b[0m: Column 'Date' does not exist. Did you mean one of the following? [__auto_generated_subquery_name.pickup_date]; line 1 pos 7;\n'Aggregate ['date], ['Date, count(1) AS open#161L]\n+- SubqueryAlias __auto_generated_subquery_name\n   +- Project [split(cast(Date#51 as string),  , -1)[0] AS pickup_date#160]\n      +- SubqueryAlias apple_old_data\n         +- View (`APPLE_old_data`, [_c0#50,Date#51,Open#52,High#53,Low#54,Close#55,Adj Close#56,Volume#57])\n            +- Relation [_c0#50,Date#51,Open#52,High#53,Low#54,Close#55,Adj Close#56,Volume#57] csv\n"
     ]
    }
   ],
   "source": [
    "spark.sql(\"select Date, count(*) as open \\\n",
    "    from (select split(Date, ' ')[0] \\\n",
    "          as pickup_date from APPLE_old_data) \\\n",
    "          group by date \").explain(True)"
   ]
  },
  {
   "cell_type": "code",
   "execution_count": 17,
   "metadata": {},
   "outputs": [],
   "source": [
    "sc.stop()"
   ]
  }
 ],
 "metadata": {
  "kernelspec": {
   "display_name": "Python 3.8.10 64-bit",
   "language": "python",
   "name": "python3"
  },
  "language_info": {
   "codemirror_mode": {
    "name": "ipython",
    "version": 3
   },
   "file_extension": ".py",
   "mimetype": "text/x-python",
   "name": "python",
   "nbconvert_exporter": "python",
   "pygments_lexer": "ipython3",
   "version": "3.8.10"
  },
  "orig_nbformat": 4,
  "vscode": {
   "interpreter": {
    "hash": "916dbcbb3f70747c44a77c7bcd40155683ae19c65e1c03b4aa3499c5328201f1"
   }
  }
 },
 "nbformat": 4,
 "nbformat_minor": 2
}
